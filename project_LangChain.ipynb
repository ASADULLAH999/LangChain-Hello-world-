{
  "nbformat": 4,
  "nbformat_minor": 0,
  "metadata": {
    "colab": {
      "provenance": [],
      "gpuType": "T4",
      "authorship_tag": "ABX9TyNa2KLwzhtYoEwqSaidRdJb",
      "include_colab_link": true
    },
    "kernelspec": {
      "name": "python3",
      "display_name": "Python 3"
    },
    "language_info": {
      "name": "python"
    },
    "accelerator": "GPU"
  },
  "cells": [
    {
      "cell_type": "markdown",
      "metadata": {
        "id": "view-in-github",
        "colab_type": "text"
      },
      "source": [
        "<a href=\"https://colab.research.google.com/github/ASADULLAH999/LangChain-Hello-world-/blob/main/project_LangChain.ipynb\" target=\"_parent\"><img src=\"https://colab.research.google.com/assets/colab-badge.svg\" alt=\"Open In Colab\"/></a>"
      ]
    },
    {
      "cell_type": "markdown",
      "source": [
        "# **Project LangChain (Hello World):**"
      ],
      "metadata": {
        "id": "36u3HxAYgYBq"
      }
    },
    {
      "cell_type": "code",
      "source": [
        "!pip install langchain"
      ],
      "metadata": {
        "id": "XH5wPrGjgfGa"
      },
      "execution_count": null,
      "outputs": []
    },
    {
      "cell_type": "code",
      "source": [
        "!pip install langchain-google-genai"
      ],
      "metadata": {
        "id": "ukBXP6DrkUSC"
      },
      "execution_count": null,
      "outputs": []
    },
    {
      "cell_type": "code",
      "source": [
        "from langchain.prompts import PromptTemplate\n",
        "from langchain.chains import LLMChain\n",
        "from google.colab import userdata\n",
        "from langchain_google_genai import ChatGoogleGenerativeAI\n",
        "\n",
        "# Retrieve API key securely\n",
        "gemini_api_key = userdata.get('GOOGLE_API_KEY')\n",
        "\n",
        "# Initialize the LLM\n",
        "llm = ChatGoogleGenerativeAI(\n",
        "    model=\"gemini-1.5-flash\",\n",
        "    max_retries=2,\n",
        "    temperature=0.2,\n",
        "    api_key=gemini_api_key\n",
        ")\n",
        "\n",
        "# Create a prompt template\n",
        "prompt_template = PromptTemplate(\n",
        "    input_variables=[\"question\"],\n",
        "    template=\"You are a helpful assistant. Answer the following question:\\n\\n{question}\"\n",
        ")\n",
        "\n",
        "# Create the LLM chain\n",
        "chain = LLMChain(llm=llm, prompt=prompt_template)\n",
        "\n",
        "# Define a question and run the chain\n",
        "question = \"what is Agentic AI?\"\n",
        "response = chain.run({\"question\": question})\n",
        "\n",
        "\n",
        "print(\"Answer in markdown:\", response)\n",
        "\n",
        "\n"
      ],
      "metadata": {
        "id": "EKGQ5VTPjUKC",
        "colab": {
          "base_uri": "https://localhost:8080/"
        },
        "outputId": "dc887e2f-3889-4e7c-c437-f4d525152359"
      },
      "execution_count": 8,
      "outputs": [
        {
          "output_type": "stream",
          "name": "stdout",
          "text": [
            "Answer in markdown: Agentic AI refers to artificial intelligence systems that are capable of independent action and goal-directed behavior.  Unlike reactive AI, which simply responds to stimuli, or deliberative AI, which plans actions based on a pre-defined model, agentic AI possesses the ability to:\n",
            "\n",
            "* **Set its own goals:**  It doesn't just follow instructions; it can formulate its own objectives, even if those objectives are derived from a higher-level directive.\n",
            "* **Plan and execute actions:** It can develop strategies to achieve its goals, taking into account the environment and potential obstacles.\n",
            "* **Learn and adapt:** It can modify its behavior based on experience and feedback, improving its performance over time.\n",
            "* **Operate autonomously:** It can function without constant human intervention, making decisions and taking actions independently.\n",
            "\n",
            "Essentially, agentic AI exhibits characteristics similar to an agent in the real world – it acts purposefully in pursuit of its goals.  This makes it potentially powerful but also raises significant ethical and safety concerns, particularly regarding its potential impact on humans and the environment.  The development of truly robust and safe agentic AI is a major challenge for the field.\n",
            "\n"
          ]
        }
      ]
    }
  ]
}